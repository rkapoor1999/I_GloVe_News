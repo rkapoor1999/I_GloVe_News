{
 "cells": [
  {
   "cell_type": "markdown",
   "id": "cd1a4f7d",
   "metadata": {},
   "source": [
    "# Importing Libraries\n",
    "---"
   ]
  },
  {
   "cell_type": "code",
   "execution_count": 60,
   "id": "078030c2",
   "metadata": {},
   "outputs": [],
   "source": [
    "import tensorflow as tf\n",
    "import pandas as pd\n",
    "import numpy as np\n",
    "import string\n",
    "import os\n",
    "from sklearn.model_selection import train_test_split, KFold\n",
    "from sklearn.feature_extraction.text import TfidfVectorizer\n",
    "from tensorflow.keras.preprocessing.text import Tokenizer\n",
    "import nltk\n",
    "from nltk.corpus import stopwords \n",
    "from nltk.stem.porter import *\n",
    "from keras.preprocessing.sequence import pad_sequences\n",
    "from keras.models import Sequential\n",
    "from keras.layers import Flatten, Dense, Embedding\n",
    "from keras.callbacks import ModelCheckpoint\n",
    "import matplotlib.pyplot as plt\n",
    "import seaborn as sns"
   ]
  },
  {
   "cell_type": "markdown",
   "id": "1c418853",
   "metadata": {},
   "source": [
    "# Exploring Data\n",
    "---"
   ]
  },
  {
   "cell_type": "code",
   "execution_count": 33,
   "id": "b1da5835",
   "metadata": {},
   "outputs": [],
   "source": [
    "df = pd.read_csv(\"./data/news-train.csv\")"
   ]
  },
  {
   "cell_type": "code",
   "execution_count": 34,
   "id": "2f28b746",
   "metadata": {
    "scrolled": true
   },
   "outputs": [
    {
     "data": {
      "text/html": [
       "<div>\n",
       "<style scoped>\n",
       "    .dataframe tbody tr th:only-of-type {\n",
       "        vertical-align: middle;\n",
       "    }\n",
       "\n",
       "    .dataframe tbody tr th {\n",
       "        vertical-align: top;\n",
       "    }\n",
       "\n",
       "    .dataframe thead th {\n",
       "        text-align: right;\n",
       "    }\n",
       "</style>\n",
       "<table border=\"1\" class=\"dataframe\">\n",
       "  <thead>\n",
       "    <tr style=\"text-align: right;\">\n",
       "      <th></th>\n",
       "      <th>ArticleId</th>\n",
       "      <th>Text</th>\n",
       "      <th>Category</th>\n",
       "    </tr>\n",
       "  </thead>\n",
       "  <tbody>\n",
       "    <tr>\n",
       "      <th>0</th>\n",
       "      <td>1429</td>\n",
       "      <td>sfa awaits report over mikoliunas the scottish...</td>\n",
       "      <td>sport</td>\n",
       "    </tr>\n",
       "    <tr>\n",
       "      <th>1</th>\n",
       "      <td>1896</td>\n",
       "      <td>parmalat to return to stockmarket parmalat  th...</td>\n",
       "      <td>business</td>\n",
       "    </tr>\n",
       "    <tr>\n",
       "      <th>2</th>\n",
       "      <td>1633</td>\n",
       "      <td>edu blasts arsenal arsenal s brazilian midfiel...</td>\n",
       "      <td>sport</td>\n",
       "    </tr>\n",
       "    <tr>\n",
       "      <th>3</th>\n",
       "      <td>2178</td>\n",
       "      <td>henman decides to quit davis cup tim henman ha...</td>\n",
       "      <td>sport</td>\n",
       "    </tr>\n",
       "    <tr>\n",
       "      <th>4</th>\n",
       "      <td>194</td>\n",
       "      <td>french suitor holds lse meeting european stock...</td>\n",
       "      <td>business</td>\n",
       "    </tr>\n",
       "    <tr>\n",
       "      <th>...</th>\n",
       "      <td>...</td>\n",
       "      <td>...</td>\n",
       "      <td>...</td>\n",
       "    </tr>\n",
       "    <tr>\n",
       "      <th>995</th>\n",
       "      <td>1250</td>\n",
       "      <td>blair  damaged  by blunkett row a majority of ...</td>\n",
       "      <td>politics</td>\n",
       "    </tr>\n",
       "    <tr>\n",
       "      <th>996</th>\n",
       "      <td>1639</td>\n",
       "      <td>a november to remember last saturday  one news...</td>\n",
       "      <td>sport</td>\n",
       "    </tr>\n",
       "    <tr>\n",
       "      <th>997</th>\n",
       "      <td>916</td>\n",
       "      <td>highbury tunnel players in clear the football ...</td>\n",
       "      <td>sport</td>\n",
       "    </tr>\n",
       "    <tr>\n",
       "      <th>998</th>\n",
       "      <td>2217</td>\n",
       "      <td>top stars join us tsunami tv show brad pitt  r...</td>\n",
       "      <td>entertainment</td>\n",
       "    </tr>\n",
       "    <tr>\n",
       "      <th>999</th>\n",
       "      <td>902</td>\n",
       "      <td>eastwood s baby scoops top oscars clint eastwo...</td>\n",
       "      <td>entertainment</td>\n",
       "    </tr>\n",
       "  </tbody>\n",
       "</table>\n",
       "<p>1000 rows × 3 columns</p>\n",
       "</div>"
      ],
      "text/plain": [
       "     ArticleId                                               Text  \\\n",
       "0         1429  sfa awaits report over mikoliunas the scottish...   \n",
       "1         1896  parmalat to return to stockmarket parmalat  th...   \n",
       "2         1633  edu blasts arsenal arsenal s brazilian midfiel...   \n",
       "3         2178  henman decides to quit davis cup tim henman ha...   \n",
       "4          194  french suitor holds lse meeting european stock...   \n",
       "..         ...                                                ...   \n",
       "995       1250  blair  damaged  by blunkett row a majority of ...   \n",
       "996       1639  a november to remember last saturday  one news...   \n",
       "997        916  highbury tunnel players in clear the football ...   \n",
       "998       2217  top stars join us tsunami tv show brad pitt  r...   \n",
       "999        902  eastwood s baby scoops top oscars clint eastwo...   \n",
       "\n",
       "          Category  \n",
       "0            sport  \n",
       "1         business  \n",
       "2            sport  \n",
       "3            sport  \n",
       "4         business  \n",
       "..             ...  \n",
       "995       politics  \n",
       "996          sport  \n",
       "997          sport  \n",
       "998  entertainment  \n",
       "999  entertainment  \n",
       "\n",
       "[1000 rows x 3 columns]"
      ]
     },
     "execution_count": 34,
     "metadata": {},
     "output_type": "execute_result"
    }
   ],
   "source": [
    "df"
   ]
  },
  {
   "cell_type": "code",
   "execution_count": 35,
   "id": "5c8f9a8a",
   "metadata": {},
   "outputs": [
    {
     "name": "stdout",
     "output_type": "stream",
     "text": [
      "First few rows of the dataframe:\n",
      "   ArticleId                                               Text  Category\n",
      "0       1429  sfa awaits report over mikoliunas the scottish...     sport\n",
      "1       1896  parmalat to return to stockmarket parmalat  th...  business\n",
      "2       1633  edu blasts arsenal arsenal s brazilian midfiel...     sport\n",
      "3       2178  henman decides to quit davis cup tim henman ha...     sport\n",
      "4        194  french suitor holds lse meeting european stock...  business\n"
     ]
    }
   ],
   "source": [
    "# Display the first few rows of the dataframe\n",
    "print(\"First few rows of the dataframe:\")\n",
    "print(df.head())"
   ]
  },
  {
   "cell_type": "code",
   "execution_count": 36,
   "id": "5923ad25",
   "metadata": {},
   "outputs": [
    {
     "name": "stdout",
     "output_type": "stream",
     "text": [
      "\n",
      "Missing values in the dataframe:\n",
      "ArticleId    0\n",
      "Text         0\n",
      "Category     0\n",
      "dtype: int64\n"
     ]
    }
   ],
   "source": [
    "# Check for missing values\n",
    "print(\"\\nMissing values in the dataframe:\")\n",
    "print(df.isnull().sum())"
   ]
  },
  {
   "cell_type": "code",
   "execution_count": 37,
   "id": "412bf60a",
   "metadata": {},
   "outputs": [
    {
     "name": "stdout",
     "output_type": "stream",
     "text": [
      "\n",
      "Distribution of categories:\n",
      "Category\n",
      "sport            231\n",
      "business         221\n",
      "politics         186\n",
      "tech             184\n",
      "entertainment    178\n",
      "Name: count, dtype: int64\n"
     ]
    }
   ],
   "source": [
    "# Distribution of categories\n",
    "print(\"\\nDistribution of categories:\")\n",
    "print(df['Category'].value_counts())"
   ]
  },
  {
   "cell_type": "code",
   "execution_count": 38,
   "id": "271f3189",
   "metadata": {},
   "outputs": [
    {
     "data": {
      "image/png": "[encoded data removed]",
      "text/plain": [
       "<Figure size 800x800 with 1 Axes>"
      ]
     },
     "metadata": {},
     "output_type": "display_data"
    }
   ],
   "source": [
    "# Count the occurrences of each category\n",
    "category_counts = df['Category'].value_counts()\n",
    "\n",
    "# Plotting a pie chart\n",
    "plt.figure(figsize=(8, 8))\n",
    "plt.pie(category_counts, labels=category_counts.index, autopct='%1.1f%%', startangle=140, colors=sns.color_palette('Set3', len(category_counts)))\n",
    "plt.title('Distribution of Categories')\n",
    "plt.axis('equal')  # Equal aspect ratio ensures that pie is drawn as a circle\n",
    "\n",
    "# Add legend outside the plot\n",
    "plt.legend(title='Category', loc='upper left', labels=category_counts.index, bbox_to_anchor=(1, 0.7))\n",
    "\n",
    "plt.show()"
   ]
  },
  {
   "cell_type": "markdown",
   "id": "c6632f17",
   "metadata": {},
   "source": [
    "# Preprocessing Data\n",
    "---"
   ]
  },
  {
   "cell_type": "code",
   "execution_count": 39,
   "id": "b8e8d2a2",
   "metadata": {},
   "outputs": [],
   "source": [
    "# Extracting text and labels\n",
    "X = df['Text']\n",
    "y = df['Category']"
   ]
  },
  {
   "cell_type": "code",
   "execution_count": 40,
   "id": "8c7c2058",
   "metadata": {},
   "outputs": [],
   "source": [
    "# Convert categorical labels to binary indicator variables using one-hot encoding\n",
    "y = pd.get_dummies(y)\n",
    "\n",
    "# Convert the one-hot encoded labels to numpy array for model training\n",
    "y = np.asarray(y)"
   ]
  },
  {
   "cell_type": "code",
   "execution_count": 41,
   "id": "b0f8cb27",
   "metadata": {},
   "outputs": [],
   "source": [
    "# Initialize and fit a Tokenizer object with a specified maximum number of words = len(word_index)+1\n",
    "# First run this without num_words parameter and set max_words = len(word_index)+1. Then run it with the above mentioned condition\n",
    "max_words = 21223\n",
    "\n",
    "tokenizer = Tokenizer(num_words = 21223, lower = True)\n",
    "tokenizer.fit_on_texts(X)\n",
    "word_index = tokenizer.word_index"
   ]
  },
  {
   "cell_type": "code",
   "execution_count": 42,
   "id": "d591dcd8",
   "metadata": {},
   "outputs": [],
   "source": [
    "# Convert text data to sequences of integers\n",
    "sequences = tokenizer.texts_to_sequences(X)"
   ]
  },
  {
   "cell_type": "code",
   "execution_count": 43,
   "id": "3d26ccfd",
   "metadata": {},
   "outputs": [],
   "source": [
    "# Pad sequences to ensure uniform length(by deafult pads at front)\n",
    "data = pad_sequences(sequences)"
   ]
  },
  {
   "cell_type": "code",
   "execution_count": 44,
   "id": "6d646a23",
   "metadata": {},
   "outputs": [],
   "source": [
    "# 80-20 Train-validation split\n",
    "X_train, X_val, y_train, y_val = train_test_split(data, y, test_size = 0.2, random_state=42)"
   ]
  },
  {
   "cell_type": "markdown",
   "id": "fe5b0db7",
   "metadata": {},
   "source": [
    "# Load GloVE embeddings\n",
    "---"
   ]
  },
  {
   "cell_type": "code",
   "execution_count": 45,
   "id": "32f4fa01",
   "metadata": {},
   "outputs": [
    {
     "name": "stdout",
     "output_type": "stream",
     "text": [
      "Found 400000 word vectors. \n"
     ]
    }
   ],
   "source": [
    "# Define the path to the GloVe embeddings file\n",
    "glove_directory = './glove/glove.6B.100d.txt'\n",
    "\n",
    "# Initialize an empty dictionary to store word embeddings\n",
    "embeddings_index = {}\n",
    "\n",
    "# Open the GloVe embeddings file and populate the embeddings dictionary\n",
    "f = open(glove_directory, encoding ='utf8')\n",
    "for line in f:\n",
    "    values = line.split()\n",
    "    word = values[0]\n",
    "    coefs = np.asarray(values[1:], dtype = 'float32')\n",
    "    embeddings_index[word] = coefs\n",
    "f.close()\n",
    "\n",
    "# Print the number of word vectors found in the GloVe embeddings file\n",
    "print(f\"Found {len(embeddings_index)} word vectors. \")"
   ]
  },
  {
   "cell_type": "code",
   "execution_count": 46,
   "id": "64cf8e55",
   "metadata": {},
   "outputs": [
    {
     "data": {
      "text/plain": [
       "array([-0.090436 ,  0.19636  ,  0.29474  , -0.47706  , -0.80436  ,\n",
       "        0.3078   , -0.55205  ,  0.58453  , -0.17056  , -0.84846  ,\n",
       "        0.19528  ,  0.23671  ,  0.46827  , -0.58977  , -0.12163  ,\n",
       "       -0.24697  , -0.072944 ,  0.17259  , -0.0485   ,  0.9527   ,\n",
       "        0.50629  ,  0.58497  , -0.19367  , -0.45459  , -0.031095 ,\n",
       "        0.51633  , -0.24052  , -0.1007   ,  0.53627  ,  0.024225 ,\n",
       "       -0.50162  ,  0.73692  ,  0.49468  , -0.34744  ,  0.89337  ,\n",
       "        0.057439 , -0.19127  ,  0.39333  ,  0.21182  , -0.89837  ,\n",
       "        0.078704 , -0.16344  ,  0.45261  , -0.41096  , -0.19499  ,\n",
       "       -0.13489  , -0.016313 , -0.021849 ,  0.17136  , -1.2413   ,\n",
       "        0.079503 , -0.91144  ,  0.35699  ,  0.36289  , -0.24934  ,\n",
       "       -2.1196   ,  0.14534  ,  0.52964  ,  0.90134  ,  0.033603 ,\n",
       "        0.022809 ,  0.70625  , -1.0362   , -0.59809  ,  0.70592  ,\n",
       "       -0.072793 ,  0.67033  ,  0.52763  , -0.47807  , -0.67374  ,\n",
       "        0.36632  , -0.38284  , -0.10349  , -0.6402   ,  0.18104  ,\n",
       "        0.82568  ,  0.066403 , -0.40791  , -0.083813 , -0.36487  ,\n",
       "        0.045362 , -0.073527 , -0.20117  ,  0.37441  , -1.4024   ,\n",
       "       -0.25605  , -0.4708   , -0.16145  , -0.87921  , -0.36325  ,\n",
       "       -0.17357  , -0.077983 ,  0.43273  ,  0.0089295, -1.0316   ,\n",
       "       -0.11589  , -0.34524  ,  0.11514  , -0.40812  ,  0.20203  ],\n",
       "      dtype=float32)"
      ]
     },
     "execution_count": 46,
     "metadata": {},
     "output_type": "execute_result"
    }
   ],
   "source": [
    "# Retrieve the embedding vector for any word from the embeddings_index dictionary, it's all lowercase\n",
    "embeddings_index['happy']"
   ]
  },
  {
   "cell_type": "code",
   "execution_count": 47,
   "id": "9ddc7020",
   "metadata": {},
   "outputs": [],
   "source": [
    "# Define the dimensionality of the word embeddings\n",
    "embedding_dim = 100\n",
    "\n",
    "# Initialize an embedding matrix with zeros\n",
    "embedding_matrix = np.zeros((max_words, embedding_dim))\n",
    "\n",
    "# Populate the embedding matrix with GloVe word embeddings for words in the word index,\n",
    "# ensuring each word's embedding is assigned to the corresponding row in the matrix\n",
    "for word, i in word_index.items():\n",
    "    embedding_vector = embeddings_index.get(word)\n",
    "    if i < max_words:\n",
    "        if embedding_vector is not None:\n",
    "            embedding_matrix[i] = embedding_vector"
   ]
  },
  {
   "cell_type": "code",
   "execution_count": 48,
   "id": "63cf037a",
   "metadata": {},
   "outputs": [],
   "source": [
    "# Determine the maximum length of sequences in the dataset\n",
    "max_len = len(max(sequences, key=len))"
   ]
  },
  {
   "cell_type": "markdown",
   "id": "58a26dfa",
   "metadata": {},
   "source": [
    "# Neural Network Training\n",
    "---"
   ]
  },
  {
   "cell_type": "markdown",
   "id": "6db302ba",
   "metadata": {},
   "source": [
    "### Running 5 fold cross validation with 7 step learnign rates <br> [0.0001, 0.0003, 0.001, 0.003, 0.01, 0.03, 0.1]"
   ]
  },
  {
   "cell_type": "code",
   "execution_count": 49,
   "id": "f3de7491",
   "metadata": {},
   "outputs": [],
   "source": [
    "def nn_learningrate_variable(X, y):   \n",
    "    n_folds = 5\n",
    "    kf = KFold(n_splits=n_folds, shuffle=True)\n",
    "    \n",
    "    results = []\n",
    "    \n",
    "    learning_rate = [0.0001, 0.0003, 0.001, 0.003, 0.01, 0.03, 0.1]\n",
    "    \n",
    "    for lr in learning_rate:\n",
    "        lr_results = {\"Learning Rate\":lr, \"Training Accuracies\":[], \"Validation Accuracies\":[]}\n",
    "        for train_index, val_index in kf.split(X):\n",
    "            X_train, X_val = X[train_index], X[val_index]\n",
    "            y_train, y_val = y[train_index], y[val_index]\n",
    "            \n",
    "            # Define a Sequential model with an embedding layer\n",
    "            model = Sequential()\n",
    "            model.add(tf.keras.layers.Embedding(max_words, embedding_dim, input_shape=(max_len,)))\n",
    "            model.add(Flatten())\n",
    "            model.add(Dense(32, activation='relu'))\n",
    "            model.add(Dense(5, activation='softmax'))\n",
    "            \n",
    "            # Set the pre-trained GloVe word embeddings as weights for the Embedding layer\n",
    "            model.layers[0].set_weights([embedding_matrix])\n",
    "\n",
    "            # Freeze the weights of the Embedding layer to prevent training and retain the pre-trained embeddings\n",
    "            model.layers[0].trainable = False\n",
    "            \n",
    "            optimizer = tf.keras.optimizers.Adam(learning_rate=lr)\n",
    "            \n",
    "            model.compile(optimizer=optimizer,\n",
    "            loss=tf.keras.losses.CategoricalCrossentropy(),\n",
    "            metrics = ['accuracy'])\n",
    "            history = model.fit(X_train, y_train, epochs = 10, batch_size=16, validation_data=(X_val, y_val), verbose=0)\n",
    "            \n",
    "            t_loss, t_accuracy = model.evaluate(X_train, y_train, verbose=0)\n",
    "            lr_results[\"Training Accuracies\"].append(t_accuracy)\n",
    "            v_loss, v_accuracy = model.evaluate(X_val, y_val, verbose=0)\n",
    "            lr_results[\"Validation Accuracies\"].append(v_accuracy)\n",
    "\n",
    "        lr_results[\"Mean Training Accuracy\"] = np.mean(lr_results[\"Training Accuracies\"])\n",
    "        lr_results[\"Mean Validation Accuracy\"] = np.mean(lr_results[\"Validation Accuracies\"])\n",
    "        lr_results[\"Standard Deviation Training\"] = np.std(lr_results[\"Training Accuracies\"])\n",
    "        lr_results[\"Standard Deviation Validation\"] = np.std(lr_results[\"Validation Accuracies\"])\n",
    "        \n",
    "\n",
    "        results.append(lr_results)\n",
    "    \n",
    "    return results"
   ]
  },
  {
   "cell_type": "code",
   "execution_count": 54,
   "id": "5184a9cb",
   "metadata": {},
   "outputs": [],
   "source": [
    "results_lr = nn_learningrate_variable(data, y)\n",
    "lr_variation_df = pd.DataFrame(results_lr)"
   ]
  },
  {
   "cell_type": "code",
   "execution_count": 59,
   "id": "c03600ce",
   "metadata": {},
   "outputs": [
    {
     "data": {
      "text/html": [
       "<div>\n",
       "<style scoped>\n",
       "    .dataframe tbody tr th:only-of-type {\n",
       "        vertical-align: middle;\n",
       "    }\n",
       "\n",
       "    .dataframe tbody tr th {\n",
       "        vertical-align: top;\n",
       "    }\n",
       "\n",
       "    .dataframe thead th {\n",
       "        text-align: right;\n",
       "    }\n",
       "</style>\n",
       "<table border=\"1\" class=\"dataframe\">\n",
       "  <thead>\n",
       "    <tr style=\"text-align: right;\">\n",
       "      <th></th>\n",
       "      <th>Learning Rate</th>\n",
       "      <th>Training Accuracies</th>\n",
       "      <th>Validation Accuracies</th>\n",
       "      <th>Mean Training Accuracy</th>\n",
       "      <th>Mean Validation Accuracy</th>\n",
       "      <th>Standard Deviation Training</th>\n",
       "      <th>Standard Deviation Validation</th>\n",
       "    </tr>\n",
       "  </thead>\n",
       "  <tbody>\n",
       "    <tr>\n",
       "      <th>0</th>\n",
       "      <td>0.0001</td>\n",
       "      <td>[1.0, 1.0, 1.0, 1.0, 1.0]</td>\n",
       "      <td>[0.9100000262260437, 0.8999999761581421, 0.910...</td>\n",
       "      <td>1.00000</td>\n",
       "      <td>0.893</td>\n",
       "      <td>0.000000</td>\n",
       "      <td>0.031875</td>\n",
       "    </tr>\n",
       "    <tr>\n",
       "      <th>1</th>\n",
       "      <td>0.0003</td>\n",
       "      <td>[0.9937499761581421, 1.0, 1.0, 1.0, 0.99874997...</td>\n",
       "      <td>[0.8849999904632568, 0.8700000047683716, 0.915...</td>\n",
       "      <td>0.99850</td>\n",
       "      <td>0.888</td>\n",
       "      <td>0.002424</td>\n",
       "      <td>0.016000</td>\n",
       "    </tr>\n",
       "    <tr>\n",
       "      <th>2</th>\n",
       "      <td>0.0010</td>\n",
       "      <td>[0.9975000023841858, 0.9900000095367432, 0.998...</td>\n",
       "      <td>[0.8650000095367432, 0.7950000166893005, 0.819...</td>\n",
       "      <td>0.99425</td>\n",
       "      <td>0.840</td>\n",
       "      <td>0.005788</td>\n",
       "      <td>0.035496</td>\n",
       "    </tr>\n",
       "    <tr>\n",
       "      <th>3</th>\n",
       "      <td>0.0030</td>\n",
       "      <td>[0.9850000143051147, 0.9449999928474426, 0.976...</td>\n",
       "      <td>[0.7350000143051147, 0.8199999928474426, 0.745...</td>\n",
       "      <td>0.92250</td>\n",
       "      <td>0.728</td>\n",
       "      <td>0.076848</td>\n",
       "      <td>0.055821</td>\n",
       "    </tr>\n",
       "    <tr>\n",
       "      <th>4</th>\n",
       "      <td>0.0100</td>\n",
       "      <td>[0.7925000190734863, 0.45500001311302185, 0.67...</td>\n",
       "      <td>[0.6150000095367432, 0.4449999928474426, 0.465...</td>\n",
       "      <td>0.59550</td>\n",
       "      <td>0.450</td>\n",
       "      <td>0.134068</td>\n",
       "      <td>0.106207</td>\n",
       "    </tr>\n",
       "    <tr>\n",
       "      <th>5</th>\n",
       "      <td>0.0300</td>\n",
       "      <td>[0.2775000035762787, 0.2512499988079071, 0.431...</td>\n",
       "      <td>[0.20000000298023224, 0.20999999344348907, 0.5...</td>\n",
       "      <td>0.29025</td>\n",
       "      <td>0.269</td>\n",
       "      <td>0.071490</td>\n",
       "      <td>0.123102</td>\n",
       "    </tr>\n",
       "    <tr>\n",
       "      <th>6</th>\n",
       "      <td>0.1000</td>\n",
       "      <td>[0.22750000655651093, 0.22499999403953552, 0.2...</td>\n",
       "      <td>[0.23499999940395355, 0.25999999046325684, 0.1...</td>\n",
       "      <td>0.22950</td>\n",
       "      <td>0.212</td>\n",
       "      <td>0.013005</td>\n",
       "      <td>0.034728</td>\n",
       "    </tr>\n",
       "  </tbody>\n",
       "</table>\n",
       "</div>"
      ],
      "text/plain": [
       "   Learning Rate                                Training Accuracies  \\\n",
       "0         0.0001                          [1.0, 1.0, 1.0, 1.0, 1.0]   \n",
       "1         0.0003  [0.9937499761581421, 1.0, 1.0, 1.0, 0.99874997...   \n",
       "2         0.0010  [0.9975000023841858, 0.9900000095367432, 0.998...   \n",
       "3         0.0030  [0.9850000143051147, 0.9449999928474426, 0.976...   \n",
       "4         0.0100  [0.7925000190734863, 0.45500001311302185, 0.67...   \n",
       "5         0.0300  [0.2775000035762787, 0.2512499988079071, 0.431...   \n",
       "6         0.1000  [0.22750000655651093, 0.22499999403953552, 0.2...   \n",
       "\n",
       "                               Validation Accuracies  Mean Training Accuracy  \\\n",
       "0  [0.9100000262260437, 0.8999999761581421, 0.910...                 1.00000   \n",
       "1  [0.8849999904632568, 0.8700000047683716, 0.915...                 0.99850   \n",
       "2  [0.8650000095367432, 0.7950000166893005, 0.819...                 0.99425   \n",
       "3  [0.7350000143051147, 0.8199999928474426, 0.745...                 0.92250   \n",
       "4  [0.6150000095367432, 0.4449999928474426, 0.465...                 0.59550   \n",
       "5  [0.20000000298023224, 0.20999999344348907, 0.5...                 0.29025   \n",
       "6  [0.23499999940395355, 0.25999999046325684, 0.1...                 0.22950   \n",
       "\n",
       "   Mean Validation Accuracy  Standard Deviation Training  \\\n",
       "0                     0.893                     0.000000   \n",
       "1                     0.888                     0.002424   \n",
       "2                     0.840                     0.005788   \n",
       "3                     0.728                     0.076848   \n",
       "4                     0.450                     0.134068   \n",
       "5                     0.269                     0.071490   \n",
       "6                     0.212                     0.013005   \n",
       "\n",
       "   Standard Deviation Validation  \n",
       "0                       0.031875  \n",
       "1                       0.016000  \n",
       "2                       0.035496  \n",
       "3                       0.055821  \n",
       "4                       0.106207  \n",
       "5                       0.123102  \n",
       "6                       0.034728  "
      ]
     },
     "execution_count": 59,
     "metadata": {},
     "output_type": "execute_result"
    }
   ],
   "source": [
    "lr_variation_df"
   ]
  },
  {
   "cell_type": "markdown",
   "id": "0ea2f27e",
   "metadata": {},
   "source": [
    "### Observing the best averages from the graph, we pick the learning rate = 0.0001 "
   ]
  },
  {
   "cell_type": "code",
   "execution_count": 52,
   "id": "1ccbd26c",
   "metadata": {},
   "outputs": [],
   "source": [
    "def nn_optimizer_variable(X, y):     \n",
    "    n_folds = 5\n",
    "    kf = KFold(n_splits=n_folds, shuffle=True)\n",
    "    results = []\n",
    "    lr = 0.0001\n",
    "    optimizers = ['sgd', 'rmsprop', 'adam']\n",
    "    \n",
    "    for o in optimizers:\n",
    "        o_results = {\"Optimiser\":o, \"Training Accuracies\":[], \"Validation Accuracies\":[]}\n",
    "        for train_index, val_index in kf.split(X):\n",
    "            X_train, X_val = X[train_index], X[val_index]\n",
    "            y_train, y_val = y[train_index], y[val_index]\n",
    "            \n",
    "            # Define a Sequential model with an embedding layer\n",
    "            model = Sequential()\n",
    "            model.add(tf.keras.layers.Embedding(max_words, embedding_dim, input_shape=(max_len,)))\n",
    "            model.add(Flatten())\n",
    "            model.add(Dense(32, activation='relu'))\n",
    "            model.add(Dense(5, activation='softmax'))\n",
    "            \n",
    "            # Set the pre-trained GloVe word embeddings as weights for the Embedding layer\n",
    "            model.layers[0].set_weights([embedding_matrix])\n",
    "\n",
    "            # Freeze the weights of the Embedding layer to prevent training and retain the pre-trained embeddings\n",
    "            model.layers[0].trainable = False\n",
    "            \n",
    "            if o == 'sgd':\n",
    "                optimizer = tf.keras.optimizers.SGD(learning_rate=lr)\n",
    "            if o == 'rmsprop':\n",
    "                optimizer = tf.keras.optimizers.RMSprop(learning_rate=lr)\n",
    "            if o == 'adam':\n",
    "                optimizer = tf.keras.optimizers.Adam(learning_rate=lr)\n",
    "            \n",
    "            model.compile(optimizer=optimizer,\n",
    "            loss=tf.keras.losses.CategoricalCrossentropy(),\n",
    "            metrics = ['accuracy'])\n",
    "            history = model.fit(X_train, y_train, epochs = 10, batch_size=16, validation_data=(X_val, y_val), verbose=0)\n",
    "            \n",
    "            t_loss, t_accuracy = model.evaluate(X_train, y_train, verbose=0)\n",
    "            o_results[\"Training Accuracies\"].append(t_accuracy)\n",
    "            v_loss, v_accuracy = model.evaluate(X_val, y_val, verbose=0)\n",
    "            o_results[\"Validation Accuracies\"].append(v_accuracy)\n",
    "\n",
    "        o_results[\"Mean Training Accuracy\"] = np.mean(o_results[\"Training Accuracies\"])\n",
    "        o_results[\"Mean Validation Accuracy\"] = np.mean(o_results[\"Validation Accuracies\"])\n",
    "        o_results[\"Standard Deviation Training\"] = np.std(o_results[\"Training Accuracies\"])\n",
    "        o_results[\"Standard Deviation Validation\"] = np.std(o_results[\"Validation Accuracies\"])\n",
    "        \n",
    "\n",
    "        results.append(o_results)\n",
    "    \n",
    "    return results"
   ]
  },
  {
   "cell_type": "code",
   "execution_count": 53,
   "id": "ee63e241",
   "metadata": {},
   "outputs": [
    {
     "name": "stderr",
     "output_type": "stream",
     "text": [
      "/opt/homebrew/lib/python3.11/site-packages/keras/src/layers/core/embedding.py:81: UserWarning: Do not pass an `input_shape`/`input_dim` argument to a layer. When using Sequential models, prefer using an `Input(shape)` object as the first layer in the model instead.\n",
      "  super().__init__(**kwargs)\n"
     ]
    }
   ],
   "source": [
    "results_optmizer = nn_optimizer_variable(data, y)\n",
    "optimizer_variation_df = pd.DataFrame(results_optmizer)"
   ]
  },
  {
   "cell_type": "code",
   "execution_count": 57,
   "id": "c3a67886",
   "metadata": {},
   "outputs": [
    {
     "data": {
      "text/html": [
       "<div>\n",
       "<style scoped>\n",
       "    .dataframe tbody tr th:only-of-type {\n",
       "        vertical-align: middle;\n",
       "    }\n",
       "\n",
       "    .dataframe tbody tr th {\n",
       "        vertical-align: top;\n",
       "    }\n",
       "\n",
       "    .dataframe thead th {\n",
       "        text-align: right;\n",
       "    }\n",
       "</style>\n",
       "<table border=\"1\" class=\"dataframe\">\n",
       "  <thead>\n",
       "    <tr style=\"text-align: right;\">\n",
       "      <th></th>\n",
       "      <th>Optimiser</th>\n",
       "      <th>Training Accuracies</th>\n",
       "      <th>Validation Accuracies</th>\n",
       "      <th>Mean Training Accuracy</th>\n",
       "      <th>Mean Validation Accuracy</th>\n",
       "      <th>Standard Deviation Training</th>\n",
       "      <th>Standard Deviation Validation</th>\n",
       "    </tr>\n",
       "  </thead>\n",
       "  <tbody>\n",
       "    <tr>\n",
       "      <th>0</th>\n",
       "      <td>sgd</td>\n",
       "      <td>[0.9100000262260437, 0.9162499904632568, 0.915...</td>\n",
       "      <td>[0.7799999713897705, 0.7049999833106995, 0.754...</td>\n",
       "      <td>0.90250</td>\n",
       "      <td>0.724</td>\n",
       "      <td>0.018557</td>\n",
       "      <td>0.038000</td>\n",
       "    </tr>\n",
       "    <tr>\n",
       "      <th>1</th>\n",
       "      <td>rmsprop</td>\n",
       "      <td>[1.0, 1.0, 1.0, 1.0, 1.0]</td>\n",
       "      <td>[0.9150000214576721, 0.949999988079071, 0.8999...</td>\n",
       "      <td>1.00000</td>\n",
       "      <td>0.915</td>\n",
       "      <td>0.000000</td>\n",
       "      <td>0.019235</td>\n",
       "    </tr>\n",
       "    <tr>\n",
       "      <th>2</th>\n",
       "      <td>adam</td>\n",
       "      <td>[1.0, 1.0, 1.0, 0.9987499713897705, 1.0]</td>\n",
       "      <td>[0.9100000262260437, 0.925000011920929, 0.8949...</td>\n",
       "      <td>0.99975</td>\n",
       "      <td>0.898</td>\n",
       "      <td>0.000500</td>\n",
       "      <td>0.017776</td>\n",
       "    </tr>\n",
       "  </tbody>\n",
       "</table>\n",
       "</div>"
      ],
      "text/plain": [
       "  Optimiser                                Training Accuracies  \\\n",
       "0       sgd  [0.9100000262260437, 0.9162499904632568, 0.915...   \n",
       "1   rmsprop                          [1.0, 1.0, 1.0, 1.0, 1.0]   \n",
       "2      adam           [1.0, 1.0, 1.0, 0.9987499713897705, 1.0]   \n",
       "\n",
       "                               Validation Accuracies  Mean Training Accuracy  \\\n",
       "0  [0.7799999713897705, 0.7049999833106995, 0.754...                 0.90250   \n",
       "1  [0.9150000214576721, 0.949999988079071, 0.8999...                 1.00000   \n",
       "2  [0.9100000262260437, 0.925000011920929, 0.8949...                 0.99975   \n",
       "\n",
       "   Mean Validation Accuracy  Standard Deviation Training  \\\n",
       "0                     0.724                     0.018557   \n",
       "1                     0.915                     0.000000   \n",
       "2                     0.898                     0.000500   \n",
       "\n",
       "   Standard Deviation Validation  \n",
       "0                       0.038000  \n",
       "1                       0.019235  \n",
       "2                       0.017776  "
      ]
     },
     "execution_count": 57,
     "metadata": {},
     "output_type": "execute_result"
    }
   ],
   "source": [
    "optimizer_variation_df"
   ]
  },
  {
   "cell_type": "markdown",
   "id": "c13c2ddb",
   "metadata": {},
   "source": [
    "### Observing the best averages from the graph, we pick the optimiser = RMSprop"
   ]
  },
  {
   "cell_type": "markdown",
   "id": "92c68afb",
   "metadata": {},
   "source": [
    "### Defining the /neural Network model with extracted parameter"
   ]
  },
  {
   "cell_type": "code",
   "execution_count": 63,
   "id": "f3ca1fc4",
   "metadata": {},
   "outputs": [
    {
     "data": {
      "text/html": [
       "<pre style=\"white-space:pre;overflow-x:auto;line-height:normal;font-family:Menlo,'DejaVu Sans Mono',consolas,'Courier New',monospace\"><span style=\"font-weight: bold\">Model: \"sequential_100\"</span>\n",
       "</pre>\n"
      ],
      "text/plain": [
       "\u001b[1mModel: \"sequential_100\"\u001b[0m\n"
      ]
     },
     "metadata": {},
     "output_type": "display_data"
    },
    {
     "data": {
      "text/html": [
       "<pre style=\"white-space:pre;overflow-x:auto;line-height:normal;font-family:Menlo,'DejaVu Sans Mono',consolas,'Courier New',monospace\">┏━━━━━━━━━━━━━━━━━━━━━━━━━━━━━━━━━┳━━━━━━━━━━━━━━━━━━━━━━━━┳━━━━━━━━━━━━━━━┓\n",
       "┃<span style=\"font-weight: bold\"> Layer (type)                    </span>┃<span style=\"font-weight: bold\"> Output Shape           </span>┃<span style=\"font-weight: bold\">       Param # </span>┃\n",
       "┡━━━━━━━━━━━━━━━━━━━━━━━━━━━━━━━━━╇━━━━━━━━━━━━━━━━━━━━━━━━╇━━━━━━━━━━━━━━━┩\n",
       "│ embedding_100 (<span style=\"color: #0087ff; text-decoration-color: #0087ff\">Embedding</span>)       │ (<span style=\"color: #00d7ff; text-decoration-color: #00d7ff\">None</span>, <span style=\"color: #00af00; text-decoration-color: #00af00\">3356</span>, <span style=\"color: #00af00; text-decoration-color: #00af00\">100</span>)      │     <span style=\"color: #00af00; text-decoration-color: #00af00\">2,122,300</span> │\n",
       "├─────────────────────────────────┼────────────────────────┼───────────────┤\n",
       "│ flatten_100 (<span style=\"color: #0087ff; text-decoration-color: #0087ff\">Flatten</span>)           │ (<span style=\"color: #00d7ff; text-decoration-color: #00d7ff\">None</span>, <span style=\"color: #00af00; text-decoration-color: #00af00\">335600</span>)         │             <span style=\"color: #00af00; text-decoration-color: #00af00\">0</span> │\n",
       "├─────────────────────────────────┼────────────────────────┼───────────────┤\n",
       "│ dense_200 (<span style=\"color: #0087ff; text-decoration-color: #0087ff\">Dense</span>)               │ (<span style=\"color: #00d7ff; text-decoration-color: #00d7ff\">None</span>, <span style=\"color: #00af00; text-decoration-color: #00af00\">32</span>)             │    <span style=\"color: #00af00; text-decoration-color: #00af00\">10,739,232</span> │\n",
       "├─────────────────────────────────┼────────────────────────┼───────────────┤\n",
       "│ dense_201 (<span style=\"color: #0087ff; text-decoration-color: #0087ff\">Dense</span>)               │ (<span style=\"color: #00d7ff; text-decoration-color: #00d7ff\">None</span>, <span style=\"color: #00af00; text-decoration-color: #00af00\">5</span>)              │           <span style=\"color: #00af00; text-decoration-color: #00af00\">165</span> │\n",
       "└─────────────────────────────────┴────────────────────────┴───────────────┘\n",
       "</pre>\n"
      ],
      "text/plain": [
       "┏━━━━━━━━━━━━━━━━━━━━━━━━━━━━━━━━━┳━━━━━━━━━━━━━━━━━━━━━━━━┳━━━━━━━━━━━━━━━┓\n",
       "┃\u001b[1m \u001b[0m\u001b[1mLayer (type)                   \u001b[0m\u001b[1m \u001b[0m┃\u001b[1m \u001b[0m\u001b[1mOutput Shape          \u001b[0m\u001b[1m \u001b[0m┃\u001b[1m \u001b[0m\u001b[1m      Param #\u001b[0m\u001b[1m \u001b[0m┃\n",
       "┡━━━━━━━━━━━━━━━━━━━━━━━━━━━━━━━━━╇━━━━━━━━━━━━━━━━━━━━━━━━╇━━━━━━━━━━━━━━━┩\n",
       "│ embedding_100 (\u001b[38;5;33mEmbedding\u001b[0m)       │ (\u001b[38;5;45mNone\u001b[0m, \u001b[38;5;34m3356\u001b[0m, \u001b[38;5;34m100\u001b[0m)      │     \u001b[38;5;34m2,122,300\u001b[0m │\n",
       "├─────────────────────────────────┼────────────────────────┼───────────────┤\n",
       "│ flatten_100 (\u001b[38;5;33mFlatten\u001b[0m)           │ (\u001b[38;5;45mNone\u001b[0m, \u001b[38;5;34m335600\u001b[0m)         │             \u001b[38;5;34m0\u001b[0m │\n",
       "├─────────────────────────────────┼────────────────────────┼───────────────┤\n",
       "│ dense_200 (\u001b[38;5;33mDense\u001b[0m)               │ (\u001b[38;5;45mNone\u001b[0m, \u001b[38;5;34m32\u001b[0m)             │    \u001b[38;5;34m10,739,232\u001b[0m │\n",
       "├─────────────────────────────────┼────────────────────────┼───────────────┤\n",
       "│ dense_201 (\u001b[38;5;33mDense\u001b[0m)               │ (\u001b[38;5;45mNone\u001b[0m, \u001b[38;5;34m5\u001b[0m)              │           \u001b[38;5;34m165\u001b[0m │\n",
       "└─────────────────────────────────┴────────────────────────┴───────────────┘\n"
      ]
     },
     "metadata": {},
     "output_type": "display_data"
    },
    {
     "data": {
      "text/html": [
       "<pre style=\"white-space:pre;overflow-x:auto;line-height:normal;font-family:Menlo,'DejaVu Sans Mono',consolas,'Courier New',monospace\"><span style=\"font-weight: bold\"> Total params: </span><span style=\"color: #00af00; text-decoration-color: #00af00\">12,861,697</span> (49.06 MB)\n",
       "</pre>\n"
      ],
      "text/plain": [
       "\u001b[1m Total params: \u001b[0m\u001b[38;5;34m12,861,697\u001b[0m (49.06 MB)\n"
      ]
     },
     "metadata": {},
     "output_type": "display_data"
    },
    {
     "data": {
      "text/html": [
       "<pre style=\"white-space:pre;overflow-x:auto;line-height:normal;font-family:Menlo,'DejaVu Sans Mono',consolas,'Courier New',monospace\"><span style=\"font-weight: bold\"> Trainable params: </span><span style=\"color: #00af00; text-decoration-color: #00af00\">12,861,697</span> (49.06 MB)\n",
       "</pre>\n"
      ],
      "text/plain": [
       "\u001b[1m Trainable params: \u001b[0m\u001b[38;5;34m12,861,697\u001b[0m (49.06 MB)\n"
      ]
     },
     "metadata": {},
     "output_type": "display_data"
    },
    {
     "data": {
      "text/html": [
       "<pre style=\"white-space:pre;overflow-x:auto;line-height:normal;font-family:Menlo,'DejaVu Sans Mono',consolas,'Courier New',monospace\"><span style=\"font-weight: bold\"> Non-trainable params: </span><span style=\"color: #00af00; text-decoration-color: #00af00\">0</span> (0.00 B)\n",
       "</pre>\n"
      ],
      "text/plain": [
       "\u001b[1m Non-trainable params: \u001b[0m\u001b[38;5;34m0\u001b[0m (0.00 B)\n"
      ]
     },
     "metadata": {},
     "output_type": "display_data"
    },
    {
     "name": "stdout",
     "output_type": "stream",
     "text": [
      "Epoch 1/20\n",
      "\u001b[1m49/50\u001b[0m \u001b[32m━━━━━━━━━━━━━━━━━━━\u001b[0m\u001b[37m━\u001b[0m \u001b[1m0s\u001b[0m 30ms/step - accuracy: 0.3982 - loss: 1.5622\n",
      "Epoch 1: val_accuracy improved from -inf to 0.71000, saving model to best_model.keras\n",
      "\u001b[1m50/50\u001b[0m \u001b[32m━━━━━━━━━━━━━━━━━━━━\u001b[0m\u001b[37m\u001b[0m \u001b[1m2s\u001b[0m 35ms/step - accuracy: 0.4036 - loss: 1.5517 - val_accuracy: 0.7100 - val_loss: 0.8724\n",
      "Epoch 2/20\n",
      "\u001b[1m49/50\u001b[0m \u001b[32m━━━━━━━━━━━━━━━━━━━\u001b[0m\u001b[37m━\u001b[0m \u001b[1m0s\u001b[0m 28ms/step - accuracy: 0.9292 - loss: 0.4114\n",
      "Epoch 2: val_accuracy did not improve from 0.71000\n",
      "\u001b[1m50/50\u001b[0m \u001b[32m━━━━━━━━━━━━━━━━━━━━\u001b[0m\u001b[37m\u001b[0m \u001b[1m1s\u001b[0m 29ms/step - accuracy: 0.9297 - loss: 0.4095 - val_accuracy: 0.5100 - val_loss: 1.4310\n",
      "Epoch 3/20\n",
      "\u001b[1m49/50\u001b[0m \u001b[32m━━━━━━━━━━━━━━━━━━━\u001b[0m\u001b[37m━\u001b[0m \u001b[1m0s\u001b[0m 28ms/step - accuracy: 0.9919 - loss: 0.1034\n",
      "Epoch 3: val_accuracy improved from 0.71000 to 0.77500, saving model to best_model.keras\n",
      "\u001b[1m50/50\u001b[0m \u001b[32m━━━━━━━━━━━━━━━━━━━━\u001b[0m\u001b[37m\u001b[0m \u001b[1m2s\u001b[0m 31ms/step - accuracy: 0.9919 - loss: 0.1030 - val_accuracy: 0.7750 - val_loss: 0.6588\n",
      "Epoch 4/20\n",
      "\u001b[1m49/50\u001b[0m \u001b[32m━━━━━━━━━━━━━━━━━━━\u001b[0m\u001b[37m━\u001b[0m \u001b[1m0s\u001b[0m 28ms/step - accuracy: 1.0000 - loss: 0.0272\n",
      "Epoch 4: val_accuracy improved from 0.77500 to 0.88500, saving model to best_model.keras\n",
      "\u001b[1m50/50\u001b[0m \u001b[32m━━━━━━━━━━━━━━━━━━━━\u001b[0m\u001b[37m\u001b[0m \u001b[1m2s\u001b[0m 31ms/step - accuracy: 1.0000 - loss: 0.0271 - val_accuracy: 0.8850 - val_loss: 0.3347\n",
      "Epoch 5/20\n",
      "\u001b[1m49/50\u001b[0m \u001b[32m━━━━━━━━━━━━━━━━━━━\u001b[0m\u001b[37m━\u001b[0m \u001b[1m0s\u001b[0m 28ms/step - accuracy: 1.0000 - loss: 0.0084\n",
      "Epoch 5: val_accuracy did not improve from 0.88500\n",
      "\u001b[1m50/50\u001b[0m \u001b[32m━━━━━━━━━━━━━━━━━━━━\u001b[0m\u001b[37m\u001b[0m \u001b[1m1s\u001b[0m 29ms/step - accuracy: 1.0000 - loss: 0.0084 - val_accuracy: 0.8650 - val_loss: 0.3486\n",
      "Epoch 6/20\n",
      "\u001b[1m49/50\u001b[0m \u001b[32m━━━━━━━━━━━━━━━━━━━\u001b[0m\u001b[37m━\u001b[0m \u001b[1m0s\u001b[0m 28ms/step - accuracy: 1.0000 - loss: 0.0033\n",
      "Epoch 6: val_accuracy did not improve from 0.88500\n",
      "\u001b[1m50/50\u001b[0m \u001b[32m━━━━━━━━━━━━━━━━━━━━\u001b[0m\u001b[37m\u001b[0m \u001b[1m1s\u001b[0m 29ms/step - accuracy: 1.0000 - loss: 0.0033 - val_accuracy: 0.8750 - val_loss: 0.3360\n",
      "Epoch 7/20\n",
      "\u001b[1m49/50\u001b[0m \u001b[32m━━━━━━━━━━━━━━━━━━━\u001b[0m\u001b[37m━\u001b[0m \u001b[1m0s\u001b[0m 28ms/step - accuracy: 1.0000 - loss: 0.0018\n",
      "Epoch 7: val_accuracy improved from 0.88500 to 0.89000, saving model to best_model.keras\n",
      "\u001b[1m50/50\u001b[0m \u001b[32m━━━━━━━━━━━━━━━━━━━━\u001b[0m\u001b[37m\u001b[0m \u001b[1m2s\u001b[0m 31ms/step - accuracy: 1.0000 - loss: 0.0018 - val_accuracy: 0.8900 - val_loss: 0.3187\n",
      "Epoch 8/20\n",
      "\u001b[1m49/50\u001b[0m \u001b[32m━━━━━━━━━━━━━━━━━━━\u001b[0m\u001b[37m━\u001b[0m \u001b[1m0s\u001b[0m 28ms/step - accuracy: 1.0000 - loss: 9.0391e-04\n",
      "Epoch 8: val_accuracy did not improve from 0.89000\n",
      "\u001b[1m50/50\u001b[0m \u001b[32m━━━━━━━━━━━━━━━━━━━━\u001b[0m\u001b[37m\u001b[0m \u001b[1m1s\u001b[0m 29ms/step - accuracy: 1.0000 - loss: 9.0291e-04 - val_accuracy: 0.8900 - val_loss: 0.3200\n",
      "Epoch 9/20\n",
      "\u001b[1m49/50\u001b[0m \u001b[32m━━━━━━━━━━━━━━━━━━━\u001b[0m\u001b[37m━\u001b[0m \u001b[1m0s\u001b[0m 28ms/step - accuracy: 1.0000 - loss: 6.2113e-04\n",
      "Epoch 9: val_accuracy improved from 0.89000 to 0.89500, saving model to best_model.keras\n",
      "\u001b[1m50/50\u001b[0m \u001b[32m━━━━━━━━━━━━━━━━━━━━\u001b[0m\u001b[37m\u001b[0m \u001b[1m2s\u001b[0m 31ms/step - accuracy: 1.0000 - loss: 6.2076e-04 - val_accuracy: 0.8950 - val_loss: 0.3197\n",
      "Epoch 10/20\n",
      "\u001b[1m49/50\u001b[0m \u001b[32m━━━━━━━━━━━━━━━━━━━\u001b[0m\u001b[37m━\u001b[0m \u001b[1m0s\u001b[0m 30ms/step - accuracy: 1.0000 - loss: 5.0053e-04\n",
      "Epoch 10: val_accuracy did not improve from 0.89500\n",
      "\u001b[1m50/50\u001b[0m \u001b[32m━━━━━━━━━━━━━━━━━━━━\u001b[0m\u001b[37m\u001b[0m \u001b[1m2s\u001b[0m 31ms/step - accuracy: 1.0000 - loss: 4.9894e-04 - val_accuracy: 0.8950 - val_loss: 0.3260\n",
      "Epoch 11/20\n",
      "\u001b[1m49/50\u001b[0m \u001b[32m━━━━━━━━━━━━━━━━━━━\u001b[0m\u001b[37m━\u001b[0m \u001b[1m0s\u001b[0m 30ms/step - accuracy: 1.0000 - loss: 3.8543e-04\n",
      "Epoch 11: val_accuracy improved from 0.89500 to 0.90000, saving model to best_model.keras\n",
      "\u001b[1m50/50\u001b[0m \u001b[32m━━━━━━━━━━━━━━━━━━━━\u001b[0m\u001b[37m\u001b[0m \u001b[1m2s\u001b[0m 34ms/step - accuracy: 1.0000 - loss: 3.8445e-04 - val_accuracy: 0.9000 - val_loss: 0.3221\n",
      "Epoch 12/20\n",
      "\u001b[1m49/50\u001b[0m \u001b[32m━━━━━━━━━━━━━━━━━━━\u001b[0m\u001b[37m━\u001b[0m \u001b[1m0s\u001b[0m 29ms/step - accuracy: 1.0000 - loss: 2.9865e-04\n",
      "Epoch 12: val_accuracy did not improve from 0.90000\n",
      "\u001b[1m50/50\u001b[0m \u001b[32m━━━━━━━━━━━━━━━━━━━━\u001b[0m\u001b[37m\u001b[0m \u001b[1m1s\u001b[0m 30ms/step - accuracy: 1.0000 - loss: 2.9836e-04 - val_accuracy: 0.8950 - val_loss: 0.3234\n",
      "Epoch 13/20\n",
      "\u001b[1m49/50\u001b[0m \u001b[32m━━━━━━━━━━━━━━━━━━━\u001b[0m\u001b[37m━\u001b[0m \u001b[1m0s\u001b[0m 29ms/step - accuracy: 1.0000 - loss: 2.4935e-04\n",
      "Epoch 13: val_accuracy improved from 0.90000 to 0.90500, saving model to best_model.keras\n",
      "\u001b[1m50/50\u001b[0m \u001b[32m━━━━━━━━━━━━━━━━━━━━\u001b[0m\u001b[37m\u001b[0m \u001b[1m2s\u001b[0m 32ms/step - accuracy: 1.0000 - loss: 2.4910e-04 - val_accuracy: 0.9050 - val_loss: 0.3179\n",
      "Epoch 14/20\n",
      "\u001b[1m49/50\u001b[0m \u001b[32m━━━━━━━━━━━━━━━━━━━\u001b[0m\u001b[37m━\u001b[0m \u001b[1m0s\u001b[0m 30ms/step - accuracy: 1.0000 - loss: 2.0585e-04\n",
      "Epoch 14: val_accuracy did not improve from 0.90500\n",
      "\u001b[1m50/50\u001b[0m \u001b[32m━━━━━━━━━━━━━━━━━━━━\u001b[0m\u001b[37m\u001b[0m \u001b[1m2s\u001b[0m 31ms/step - accuracy: 1.0000 - loss: 2.0588e-04 - val_accuracy: 0.9050 - val_loss: 0.3220\n",
      "Epoch 15/20\n",
      "\u001b[1m49/50\u001b[0m \u001b[32m━━━━━━━━━━━━━━━━━━━\u001b[0m\u001b[37m━\u001b[0m \u001b[1m0s\u001b[0m 30ms/step - accuracy: 1.0000 - loss: 1.8378e-04\n",
      "Epoch 15: val_accuracy did not improve from 0.90500\n",
      "\u001b[1m50/50\u001b[0m \u001b[32m━━━━━━━━━━━━━━━━━━━━\u001b[0m\u001b[37m\u001b[0m \u001b[1m2s\u001b[0m 31ms/step - accuracy: 1.0000 - loss: 1.8356e-04 - val_accuracy: 0.9050 - val_loss: 0.3156\n",
      "Epoch 16/20\n",
      "\u001b[1m49/50\u001b[0m \u001b[32m━━━━━━━━━━━━━━━━━━━\u001b[0m\u001b[37m━\u001b[0m \u001b[1m0s\u001b[0m 30ms/step - accuracy: 1.0000 - loss: 1.5514e-04\n",
      "Epoch 16: val_accuracy did not improve from 0.90500\n",
      "\u001b[1m50/50\u001b[0m \u001b[32m━━━━━━━━━━━━━━━━━━━━\u001b[0m\u001b[37m\u001b[0m \u001b[1m2s\u001b[0m 31ms/step - accuracy: 1.0000 - loss: 1.5522e-04 - val_accuracy: 0.9050 - val_loss: 0.3198\n",
      "Epoch 17/20\n",
      "\u001b[1m49/50\u001b[0m \u001b[32m━━━━━━━━━━━━━━━━━━━\u001b[0m\u001b[37m━\u001b[0m \u001b[1m0s\u001b[0m 30ms/step - accuracy: 1.0000 - loss: 1.4925e-04\n",
      "Epoch 17: val_accuracy did not improve from 0.90500\n",
      "\u001b[1m50/50\u001b[0m \u001b[32m━━━━━━━━━━━━━━━━━━━━\u001b[0m\u001b[37m\u001b[0m \u001b[1m2s\u001b[0m 32ms/step - accuracy: 1.0000 - loss: 1.4889e-04 - val_accuracy: 0.8950 - val_loss: 0.3232\n",
      "Epoch 18/20\n",
      "\u001b[1m49/50\u001b[0m \u001b[32m━━━━━━━━━━━━━━━━━━━\u001b[0m\u001b[37m━\u001b[0m \u001b[1m0s\u001b[0m 30ms/step - accuracy: 1.0000 - loss: 1.2845e-04\n",
      "Epoch 18: val_accuracy did not improve from 0.90500\n",
      "\u001b[1m50/50\u001b[0m \u001b[32m━━━━━━━━━━━━━━━━━━━━\u001b[0m\u001b[37m\u001b[0m \u001b[1m2s\u001b[0m 31ms/step - accuracy: 1.0000 - loss: 1.2835e-04 - val_accuracy: 0.9000 - val_loss: 0.3232\n",
      "Epoch 19/20\n",
      "\u001b[1m49/50\u001b[0m \u001b[32m━━━━━━━━━━━━━━━━━━━\u001b[0m\u001b[37m━\u001b[0m \u001b[1m0s\u001b[0m 29ms/step - accuracy: 1.0000 - loss: 1.1844e-04\n",
      "Epoch 19: val_accuracy did not improve from 0.90500\n",
      "\u001b[1m50/50\u001b[0m \u001b[32m━━━━━━━━━━━━━━━━━━━━\u001b[0m\u001b[37m\u001b[0m \u001b[1m2s\u001b[0m 30ms/step - accuracy: 1.0000 - loss: 1.1826e-04 - val_accuracy: 0.8950 - val_loss: 0.3266\n",
      "Epoch 20/20\n",
      "\u001b[1m49/50\u001b[0m \u001b[32m━━━━━━━━━━━━━━━━━━━\u001b[0m\u001b[37m━\u001b[0m \u001b[1m0s\u001b[0m 32ms/step - accuracy: 1.0000 - loss: 9.6999e-05\n",
      "Epoch 20: val_accuracy improved from 0.90500 to 0.91000, saving model to best_model.keras\n",
      "\u001b[1m50/50\u001b[0m \u001b[32m━━━━━━━━━━━━━━━━━━━━\u001b[0m\u001b[37m\u001b[0m \u001b[1m2s\u001b[0m 34ms/step - accuracy: 1.0000 - loss: 9.7280e-05 - val_accuracy: 0.9100 - val_loss: 0.3210\n"
     ]
    }
   ],
   "source": [
    "# Define a Sequential model with an embedding layer\n",
    "model = Sequential()\n",
    "model.add(tf.keras.layers.Embedding(max_words, embedding_dim, input_shape=(max_len,)))\n",
    "model.add(Flatten())\n",
    "model.add(Dense(32, activation='relu'))\n",
    "model.add(Dense(5, activation='softmax'))\n",
    "model.summary()\n",
    "\n",
    "# Set the pre-trained GloVe word embeddings as weights for the Embedding layer\n",
    "model.layers[0].set_weights([embedding_matrix])\n",
    "\n",
    "# Freeze the weights of the Embedding layer to prevent training and retain the pre-trained embeddings\n",
    "model.layers[0].trainable = False\n",
    "\n",
    "optimizer = tf.keras.optimizers.RMSprop(learning_rate=0.0001)\n",
    "\n",
    "model.compile(optimizer=optimizer,\n",
    "             loss=tf.keras.losses.CategoricalCrossentropy(),\n",
    "             metrics = ['accuracy'])\n",
    "\n",
    "# Define a ModelCheckpoint callback to save the model with the highest validation accuracy\n",
    "checkpoint = ModelCheckpoint('best_model.keras', monitor='val_accuracy', mode='max', verbose=1, save_best_only=True)\n",
    "\n",
    "# Fit the model with training data, specifying the ModelCheckpoint callback\n",
    "history = model.fit(X_train, y_train, epochs=20, batch_size=16, validation_data=(X_val, y_val), callbacks=[checkpoint])"
   ]
  }
 ],
 "metadata": {
  "kernelspec": {
   "display_name": "Python 3 (ipykernel)",
   "language": "python",
   "name": "python3"
  },
  "language_info": {
   "codemirror_mode": {
    "name": "ipython",
    "version": 3
   },
   "file_extension": ".py",
   "mimetype": "text/x-python",
   "name": "python",
   "nbconvert_exporter": "python",
   "pygments_lexer": "ipython3",
   "version": "3.11.5"
  }
 },
 "nbformat": 4,
 "nbformat_minor": 5
}
